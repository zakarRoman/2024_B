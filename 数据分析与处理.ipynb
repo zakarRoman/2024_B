{
 "cells": [
  {
   "cell_type": "code",
   "execution_count": 6,
   "metadata": {
    "collapsed": true
   },
   "outputs": [],
   "source": [
    "import numpy as np\n",
    "import pandas as pd\n",
    "import matplotlib.pyplot as plt\n",
    "import os\n",
    "import glob"
   ]
  },
  {
   "cell_type": "code",
   "execution_count": 27,
   "outputs": [
    {
     "name": "stdout",
     "output_type": "stream",
     "text": [
      "['轨迹表1.xlsx', '轨迹表2.xlsx', '轨迹表3.xlsx', '轨迹表4.xlsx', '轨迹表5.xlsx', '轨迹表6.xlsx', '轨迹表7.xlsx', '轨迹表8.xlsx', '轨迹表9.xlsx', '轨迹表10.xlsx', '轨迹表11.xlsx', '轨迹表12.xlsx', '轨迹表13.xlsx', '轨迹表14.xlsx', '轨迹表15.xlsx', '轨迹表16.xlsx', '轨迹表17.xlsx', '轨迹表18.xlsx', '轨迹表19.xlsx', '轨迹表20.xlsx']\n"
     ]
    }
   ],
   "source": [
    "dataframe_empty = pd.DataFrame(columns=['车辆编号', '轨迹编号', '信息类型', '收费站/门架编号', '记录时间'])\n",
    "\n",
    "# 文件路径的模式匹配\n",
    "file_path = r\"E:\\2024年校赛B题\\本科组B题附件\\附件2_轨迹数据\"\n",
    "file_list = os.listdir(file_path)\n",
    "file_list.sort(key=lambda x: int(x.split('轨迹表')[1].split('.xlsx')[0]))  # 按照数字顺序排序文件列表\n",
    "# 输出前五个文件的路径，用于检查\n",
    "print(file_list[:20])"
   ],
   "metadata": {
    "collapsed": false
   }
  },
  {
   "cell_type": "code",
   "execution_count": 31,
   "outputs": [
    {
     "name": "stdout",
     "output_type": "stream",
     "text": [
      "(2047693, 5)\n"
     ]
    }
   ],
   "source": [
    "dataframe_list = []\n",
    "\n",
    "for file in file_list:\n",
    "    dataframe_list.append(pd.read_excel(os.path.join(file_path, file)))\n",
    "\n",
    "# 使用pandas.concat将所有DataFrame合并成一个DataFrame\n",
    "dataframe_empty = pd.concat(dataframe_list, ignore_index=True)\n",
    "\n",
    "print(dataframe_empty.shape)"
   ],
   "metadata": {
    "collapsed": false
   }
  },
  {
   "cell_type": "code",
   "execution_count": 35,
   "outputs": [
    {
     "name": "stdout",
     "output_type": "stream",
     "text": [
      "      车辆编号  轨迹编号   信息类型 收费站/门架编号                记录时间\n",
      "0  车000001   NaN   基本信息    车型：客车               轨迹数：1\n",
      "1      NaN   1.0   补录入站       其他  23/2/2022 07:56:40\n",
      "2      NaN   NaN   门架信息      门架7  23/2/2022 08:37:17\n",
      "3      NaN   NaN   门架信息      门架8  23/2/2022 08:46:19\n",
      "4      NaN   NaN   门架信息      门架9  23/2/2022 08:56:21\n",
      "5      NaN   NaN   门架信息     门架10  23/2/2022 08:56:22\n",
      "6      NaN   NaN   补录出站       其他                  ——\n",
      "7  车000002   NaN   基本信息    车型：客车               轨迹数：1\n",
      "8      NaN   1.0  ETC入站    收费站15  23/2/2022 13:10:10\n",
      "9      NaN   NaN   门架信息      门架5  23/2/2022 13:12:50\n"
     ]
    },
    {
     "name": "stderr",
     "output_type": "stream",
     "text": [
      "C:\\Users\\12081\\AppData\\Local\\Temp\\ipykernel_29996\\1967053244.py:12: SettingWithCopyWarning: \n",
      "A value is trying to be set on a copy of a slice from a DataFrame.\n",
      "Try using .loc[row_indexer,col_indexer] = value instead\n",
      "\n",
      "See the caveats in the documentation: https://pandas.pydata.org/pandas-docs/stable/user_guide/indexing.html#returning-a-view-versus-a-copy\n",
      "  valid_dataframe['记录时间'] = pd.to_datetime(valid_dataframe['记录时间'], format='%d/%m/%Y %H:%M:%S')\n"
     ]
    }
   ],
   "source": [
    "def is_valid_date(date_str):\n",
    "    try:\n",
    "        pd.to_datetime(date_str, format='%d/%m/%Y %H:%M:%S')\n",
    "        return True\n",
    "    except ValueError:\n",
    "        return False\n",
    "\n",
    "# 创建一个新的DataFrame，保留有效的日期记录\n",
    "valid_dataframe = dataframe_empty[dataframe_empty['记录时间'].apply(is_valid_date)]\n",
    "\n",
    "# 将记录时间列转换为datetime类型\n",
    "valid_dataframe['记录时间'] = pd.to_datetime(valid_dataframe['记录时间'], format='%d/%m/%Y %H:%M:%S')\n",
    "\n",
    "print(dataframe_empty.head(10))"
   ],
   "metadata": {
    "collapsed": false
   }
  }
 ],
 "metadata": {
  "kernelspec": {
   "display_name": "Python 3",
   "language": "python",
   "name": "python3"
  },
  "language_info": {
   "codemirror_mode": {
    "name": "ipython",
    "version": 2
   },
   "file_extension": ".py",
   "mimetype": "text/x-python",
   "name": "python",
   "nbconvert_exporter": "python",
   "pygments_lexer": "ipython2",
   "version": "2.7.6"
  }
 },
 "nbformat": 4,
 "nbformat_minor": 0
}
